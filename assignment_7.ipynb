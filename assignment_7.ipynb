{
  "nbformat": 4,
  "nbformat_minor": 0,
  "metadata": {
    "colab": {
      "name": "assignment 7",
      "provenance": [],
      "authorship_tag": "ABX9TyO2+r+kubS78M8LSeBgx2lt",
      "include_colab_link": true
    },
    "kernelspec": {
      "name": "python3",
      "display_name": "Python 3"
    }
  },
  "cells": [
    {
      "cell_type": "markdown",
      "metadata": {
        "id": "view-in-github",
        "colab_type": "text"
      },
      "source": [
        "<a href=\"https://colab.research.google.com/github/laya2002/assignment-7/blob/master/assignment_7.ipynb\" target=\"_parent\"><img src=\"https://colab.research.google.com/assets/colab-badge.svg\" alt=\"Open In Colab\"/></a>"
      ]
    },
    {
      "cell_type": "code",
      "metadata": {
        "id": "rMKmdAHkRUu1",
        "colab_type": "code",
        "colab": {}
      },
      "source": [
        ""
      ],
      "execution_count": null,
      "outputs": []
    },
    {
      "cell_type": "markdown",
      "metadata": {
        "id": "G9gxU_U2Rai9",
        "colab_type": "text"
      },
      "source": [
        "phyton program to find square root"
      ]
    },
    {
      "cell_type": "code",
      "metadata": {
        "id": "Gf1hVWW6Rg3c",
        "colab_type": "code",
        "colab": {
          "base_uri": "https://localhost:8080/",
          "height": 51
        },
        "outputId": "12f7ab2f-0e5d-478c-cf41-0df76499c0b1"
      },
      "source": [
        "num = int(input(\"enter the value of num\"))\n",
        "num_sqrt = num ** 0.5\n",
        "print('the square root of %0.3f is %0.3f'%(num ,num_sqrt))"
      ],
      "execution_count": null,
      "outputs": [
        {
          "output_type": "stream",
          "text": [
            "enter the value of num5\n",
            "the square root of 5.000 is 2.236\n"
          ],
          "name": "stdout"
        }
      ]
    },
    {
      "cell_type": "markdown",
      "metadata": {
        "id": "7xttneiLSoJw",
        "colab_type": "text"
      },
      "source": [
        "program to check if a numberis positive , negative or 0"
      ]
    },
    {
      "cell_type": "code",
      "metadata": {
        "id": "wMLKjjReSz85",
        "colab_type": "code",
        "colab": {
          "base_uri": "https://localhost:8080/",
          "height": 51
        },
        "outputId": "dfc50dee-7bc1-4bc0-d59e-2715b8cdfab1"
      },
      "source": [
        "num = float(input(\"enter a number: \"))\n",
        "if num > 0:\n",
        "  print(\"positive number\")\n",
        "elif num == 0:\n",
        "  print(\"zero\")\n",
        "else:\n",
        "  print(\"negative number\")"
      ],
      "execution_count": null,
      "outputs": [
        {
          "output_type": "stream",
          "text": [
            "enter a number: 5\n",
            "positive number\n"
          ],
          "name": "stdout"
        }
      ]
    },
    {
      "cell_type": "markdown",
      "metadata": {
        "id": "FCr4NgAIUO32",
        "colab_type": "text"
      },
      "source": [
        "phyton program to check leap year"
      ]
    },
    {
      "cell_type": "code",
      "metadata": {
        "id": "_acwuOuBUWCJ",
        "colab_type": "code",
        "colab": {
          "base_uri": "https://localhost:8080/",
          "height": 51
        },
        "outputId": "9a9b23c1-29c7-4172-f701-285ea33e2035"
      },
      "source": [
        "year = int(input(\"enter the year: \"))\n",
        "if (year % 4) == 0:\n",
        "  if (year % 100) == 0:\n",
        "    if (year % 400) == 0:\n",
        "      print(\"{0} is a leap year\". format(year))\n",
        "    else:\n",
        "      print(\"{0} is not a leap year\". format(year))\n",
        "  else:\n",
        "    print(\"{0} is a leap year\". format(year))\n",
        "else:\n",
        "  print(\"{0} is not a leap year\". format(year))\n",
        "    \n"
      ],
      "execution_count": null,
      "outputs": [
        {
          "output_type": "stream",
          "text": [
            "enter the year: 2002\n",
            "2002 is not a leap year\n"
          ],
          "name": "stdout"
        }
      ]
    },
    {
      "cell_type": "markdown",
      "metadata": {
        "id": "MsBKej5JXq3E",
        "colab_type": "text"
      },
      "source": [
        "phyton program to print the fibonacci sequence"
      ]
    },
    {
      "cell_type": "code",
      "metadata": {
        "id": "mNS6szIBXy8L",
        "colab_type": "code",
        "colab": {
          "base_uri": "https://localhost:8080/",
          "height": 255
        },
        "outputId": "6c9155e9-fa28-42da-91e4-54da6ba9b94e"
      },
      "source": [
        "n = int(input(\"how many terms\"))\n",
        "n1 = int(input(\"enter the starting value\"))\n",
        "n2 = int(input(\"enter the scond value\"))\n",
        "count = 0\n",
        "if n <= 0:\n",
        " print(\"please enter a positive integer\")\n",
        "elif n == 1:\n",
        " print(\"fibonacci series upto\",n,\":\")\n",
        " print(n1)\n",
        "else:\n",
        "  print(\"fibonnaci sequence:\")\n",
        "  while count < n:\n",
        "    print(n1)\n",
        "    nth = n1 + n2\n",
        "  #updating the values\n",
        "    n1 = n2\n",
        "    n2 = nth\n",
        "    count += 1"
      ],
      "execution_count": null,
      "outputs": [
        {
          "output_type": "stream",
          "text": [
            "how many terms10\n",
            "enter the starting value1\n",
            "enter the scond value2\n",
            "fibonnaci sequence:\n",
            "1\n",
            "2\n",
            "3\n",
            "5\n",
            "8\n",
            "13\n",
            "21\n",
            "34\n",
            "55\n",
            "89\n"
          ],
          "name": "stdout"
        }
      ]
    },
    {
      "cell_type": "markdown",
      "metadata": {
        "id": "Zj9VVDWJa37p",
        "colab_type": "text"
      },
      "source": [
        "program to check armstrong number"
      ]
    },
    {
      "cell_type": "code",
      "metadata": {
        "id": "BxBtGWLSbF2q",
        "colab_type": "code",
        "colab": {
          "base_uri": "https://localhost:8080/",
          "height": 51
        },
        "outputId": "def37d04-ced7-46e6-f8e2-60195781eadd"
      },
      "source": [
        "num = int(input(\"enter a number : \"))\n",
        "sum = 0\n",
        "temp = num\n",
        "while temp > 0:\n",
        "  digit = temp % 10\n",
        "  sum += digit ** 3\n",
        "  temp //= 10\n",
        "if num == sum:\n",
        "  print(num,\"is an armstrong number: \")\n",
        "else:\n",
        "  print(num,\"is not an armtrong number\")"
      ],
      "execution_count": 7,
      "outputs": [
        {
          "output_type": "stream",
          "text": [
            "enter a number : 162\n",
            "162 is not an armtrong number\n"
          ],
          "name": "stdout"
        }
      ]
    },
    {
      "cell_type": "markdown",
      "metadata": {
        "id": "1r6vOktCds4A",
        "colab_type": "text"
      },
      "source": [
        "phyton program to find the armstrong in interval"
      ]
    },
    {
      "cell_type": "code",
      "metadata": {
        "id": "eqZ-a9J1d5jd",
        "colab_type": "code",
        "colab": {
          "base_uri": "https://localhost:8080/",
          "height": 119
        },
        "outputId": "1fc2885e-d105-4741-e21d-a4e0b435a085"
      },
      "source": [
        "lower = int(input(\"enter the starting value\"))\n",
        "upper = int(input(\"enter the ending value\"))\n",
        "for num in range(lower, upper + 1):\n",
        "  order = len(str(num))\n",
        "  sum = 0\n",
        "  temp = num\n",
        "  while temp > 0:\n",
        "    digit = temp % 10\n",
        "    sum += digit ** order\n",
        "    temp //= 10\n",
        "  if num == sum:\n",
        "    print(num)\n",
        "\n"
      ],
      "execution_count": 8,
      "outputs": [
        {
          "output_type": "stream",
          "text": [
            "enter the starting value100\n",
            "enter the ending value1000\n",
            "153\n",
            "370\n",
            "371\n",
            "407\n"
          ],
          "name": "stdout"
        }
      ]
    },
    {
      "cell_type": "code",
      "metadata": {
        "id": "y5BJa3F5X_qk",
        "colab_type": "code",
        "colab": {}
      },
      "source": [
        ""
      ],
      "execution_count": null,
      "outputs": []
    }
  ]
}